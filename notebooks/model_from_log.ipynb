{
 "cells": [
  {
   "cell_type": "code",
   "execution_count": 1,
   "metadata": {},
   "outputs": [],
   "source": [
    "import os, sys\n",
    "\n",
    "import numpy as np\n",
    "from scipy.linalg import eigh\n",
    "from scipy.optimize import minimize_scalar\n",
    "import matplotlib.pyplot as plt\n",
    "import scipy.linalg as sla\n",
    "import pandas as pd\n",
    "import numpy as np\n",
    "from matplotlib import patches\n",
    "import matplotlib.pyplot as plt\n",
    "import matplotlib.image as mpimg\n",
    "from scipy import optimize\n",
    "from scipy.optimize import minimize\n",
    "from astropy.io import fits\n",
    "from astropy import wcs\n",
    "from matplotlib import cm\n",
    "from matplotlib.colors import LogNorm\n",
    "\n",
    "import warnings\n",
    "warnings.filterwarnings('ignore')\n",
    "\n",
    "%matplotlib notebook\n",
    "# %matplotlib inline\n",
    "# %matplotlib widget\n",
    "# %matplotlib ipympl"
   ]
  },
  {
   "cell_type": "code",
   "execution_count": 2,
   "metadata": {},
   "outputs": [],
   "source": [
    "# make sure \n",
    "from sbfTools import *"
   ]
  },
  {
   "cell_type": "code",
   "execution_count": null,
   "metadata": {},
   "outputs": [],
   "source": []
  },
  {
   "cell_type": "code",
   "execution_count": 3,
   "metadata": {},
   "outputs": [],
   "source": [
    "inFolder = '/media/Data/Home/PanStarrs/Jan/HI/augment/SBF/wfc3-16262/'\n",
    "configFolder = '/media/Data/Home/PanStarrs/Jan/HI/augment/SBF/codes/notebooks/config/'"
   ]
  },
  {
   "cell_type": "code",
   "execution_count": 4,
   "metadata": {},
   "outputs": [
    {
     "name": "stdout",
     "output_type": "stream",
     "text": [
      "backing up log.temp\n",
      "\n",
      "cp ./log.tmp ./log.tmp.back\n"
     ]
    },
    {
     "data": {
      "text/html": [
       "<div>\n",
       "<style scoped>\n",
       "    .dataframe tbody tr th:only-of-type {\n",
       "        vertical-align: middle;\n",
       "    }\n",
       "\n",
       "    .dataframe tbody tr th {\n",
       "        vertical-align: top;\n",
       "    }\n",
       "\n",
       "    .dataframe thead th {\n",
       "        text-align: right;\n",
       "    }\n",
       "</style>\n",
       "<table border=\"1\" class=\"dataframe\">\n",
       "  <thead>\n",
       "    <tr style=\"text-align: right;\">\n",
       "      <th></th>\n",
       "      <th>value</th>\n",
       "      <th>description</th>\n",
       "    </tr>\n",
       "    <tr>\n",
       "      <th>index</th>\n",
       "      <th></th>\n",
       "      <th></th>\n",
       "    </tr>\n",
       "  </thead>\n",
       "  <tbody>\n",
       "    <tr>\n",
       "      <th>uuid</th>\n",
       "      <td>df150964-e31c-11ec-9e4c-a786058dec6f</td>\n",
       "      <td>...</td>\n",
       "    </tr>\n",
       "    <tr>\n",
       "      <th>User</th>\n",
       "      <td>Ehsan</td>\n",
       "      <td>...</td>\n",
       "    </tr>\n",
       "    <tr>\n",
       "      <th>Time</th>\n",
       "      <td>2022-06-03 02:09:28.292840</td>\n",
       "      <td>...</td>\n",
       "    </tr>\n",
       "    <tr>\n",
       "      <th>Name</th>\n",
       "      <td>u03396</td>\n",
       "      <td>...</td>\n",
       "    </tr>\n",
       "    <tr>\n",
       "      <th>X_pixels</th>\n",
       "      <td>1022</td>\n",
       "      <td>...</td>\n",
       "    </tr>\n",
       "    <tr>\n",
       "      <th>Y_pixels</th>\n",
       "      <td>1025</td>\n",
       "      <td>...</td>\n",
       "    </tr>\n",
       "    <tr>\n",
       "      <th>R_max</th>\n",
       "      <td>458</td>\n",
       "      <td>maximum horizontal/vertical distance from...</td>\n",
       "    </tr>\n",
       "    <tr>\n",
       "      <th>X0</th>\n",
       "      <td>563.268</td>\n",
       "      <td>...</td>\n",
       "    </tr>\n",
       "    <tr>\n",
       "      <th>Y0</th>\n",
       "      <td>563.234</td>\n",
       "      <td>...</td>\n",
       "    </tr>\n",
       "    <tr>\n",
       "      <th>a</th>\n",
       "      <td>88.829</td>\n",
       "      <td>...</td>\n",
       "    </tr>\n",
       "  </tbody>\n",
       "</table>\n",
       "</div>"
      ],
      "text/plain": [
       "                                                            value  \\\n",
       "index                                                               \n",
       "                uuid        df150964-e31c-11ec-9e4c-a786058dec6f    \n",
       "                User                                       Ehsan    \n",
       "                Time                  2022-06-03 02:09:28.292840    \n",
       "                Name                                      u03396    \n",
       "            X_pixels                                        1022    \n",
       "            Y_pixels                                        1025    \n",
       "               R_max                                         458    \n",
       "                  X0                                     563.268    \n",
       "                  Y0                                     563.234    \n",
       "                   a                                      88.829    \n",
       "\n",
       "                                                             description  \n",
       "index                                                                     \n",
       "                uuid                                                 ...  \n",
       "                User                                                 ...  \n",
       "                Time                                                 ...  \n",
       "                Name                                                 ...  \n",
       "            X_pixels                                                 ...  \n",
       "            Y_pixels                                                 ...  \n",
       "               R_max        maximum horizontal/vertical distance from...  \n",
       "                  X0                                                 ...  \n",
       "                  Y0                                                 ...  \n",
       "                   a                                                 ...  "
      ]
     },
     "execution_count": 4,
     "metadata": {},
     "output_type": "execute_result"
    }
   ],
   "source": [
    "from os.path import exists\n",
    "\n",
    "logName = \"Outputs_u03396/u03396_model_log.csv\"\n",
    "\n",
    "with open(logName, \"r\") as f:\n",
    "    lines = f.readlines()\n",
    "    \n",
    "if exists(\"./log.tmp\"):\n",
    "    print(\"backing up log.temp\")\n",
    "    xcmd(\"cp ./log.tmp ./log.tmp.back\", verbose=True)\n",
    "    xcmd(\"rm ./log.tmp\", verbose=False)\n",
    "\n",
    "with open(\"./log.tmp\", \"w\") as f:\n",
    "    \n",
    "    First = True\n",
    "    for l in lines:\n",
    "        if \"######\" in l:\n",
    "            if First:\n",
    "                First=False\n",
    "                continue\n",
    "            else:\n",
    "                break\n",
    "        else:\n",
    "            f.write(l)\n",
    "\n",
    "df = pd.read_csv(\"./log.tmp\")\n",
    "for col in df.columns:\n",
    "    df = df.rename(columns={col:col.strip()})\n",
    "    \n",
    "\n",
    "df.set_index(\"index\", inplace=True)\n",
    "df.head(10)"
   ]
  },
  {
   "cell_type": "code",
   "execution_count": 5,
   "metadata": {},
   "outputs": [],
   "source": [
    "obj = ellOBJ(\"u03396\", inFolder=inFolder, config=configFolder, automatic=False)\n",
    "\n",
    "# a = A*R\n",
    "# b = B*R\n",
    "# R\n",
    "# name \n",
    "\n",
    "# A\n",
    "# B\n",
    "# R\n",
    "\n",
    "\n",
    "\n"
   ]
  },
  {
   "cell_type": "code",
   "execution_count": 6,
   "metadata": {},
   "outputs": [
    {
     "ename": "AttributeError",
     "evalue": "'ellOBJ' object has no attribute 'r_max'",
     "output_type": "error",
     "traceback": [
      "\u001b[0;31m---------------------------------------------------------------------------\u001b[0m",
      "\u001b[0;31mAttributeError\u001b[0m                            Traceback (most recent call last)",
      "\u001b[0;32m<ipython-input-6-5edc46f47775>\u001b[0m in \u001b[0;36m<module>\u001b[0;34m\u001b[0m\n\u001b[0;32m----> 1\u001b[0;31m \u001b[0mobj\u001b[0m\u001b[0;34m.\u001b[0m\u001b[0mr_max\u001b[0m\u001b[0;34m\u001b[0m\u001b[0;34m\u001b[0m\u001b[0m\n\u001b[0m",
      "\u001b[0;31mAttributeError\u001b[0m: 'ellOBJ' object has no attribute 'r_max'"
     ]
    }
   ],
   "source": [
    "obj.r_max"
   ]
  },
  {
   "cell_type": "code",
   "execution_count": null,
   "metadata": {},
   "outputs": [],
   "source": []
  }
 ],
 "metadata": {
  "kernelspec": {
   "display_name": "Python 3",
   "language": "python",
   "name": "python3"
  },
  "language_info": {
   "codemirror_mode": {
    "name": "ipython",
    "version": 3
   },
   "file_extension": ".py",
   "mimetype": "text/x-python",
   "name": "python",
   "nbconvert_exporter": "python",
   "pygments_lexer": "ipython3",
   "version": "3.8.5"
  }
 },
 "nbformat": 4,
 "nbformat_minor": 4
}
