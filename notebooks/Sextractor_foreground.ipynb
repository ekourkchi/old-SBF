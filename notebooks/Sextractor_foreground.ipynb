{
 "cells": [
  {
   "cell_type": "code",
   "execution_count": 1,
   "metadata": {},
   "outputs": [],
   "source": [
    "import sys, os\n",
    "\n",
    "pysbf_path = \"/media/Data/Home/PanStarrs/Jan/HI/augment/SBF/codes/\"\n",
    "sys.path.insert(0, pysbf_path)\n",
    "from pysbf import *\n",
    "\n",
    "from IPython.display import display, Markdown, clear_output\n",
    "warnings.filterwarnings('ignore')"
   ]
  },
  {
   "cell_type": "code",
   "execution_count": null,
   "metadata": {},
   "outputs": [],
   "source": []
  },
  {
   "cell_type": "code",
   "execution_count": 9,
   "metadata": {},
   "outputs": [],
   "source": [
    "inFolder = './data/'\n",
    "outFolder = './output/'\n",
    "configFolder = pysbf_path + 'pysbf/config/'"
   ]
  },
  {
   "cell_type": "code",
   "execution_count": 10,
   "metadata": {},
   "outputs": [],
   "source": [
    "name = \"u12517\"\n",
    "\n",
    "outFolder += \"Outputs_\"+name+'/'\n",
    "logFile = outFolder+name+\"_model_log.csv\""
   ]
  },
  {
   "cell_type": "markdown",
   "metadata": {},
   "source": [
    "### Checking out the log file"
   ]
  },
  {
   "cell_type": "code",
   "execution_count": 11,
   "metadata": {},
   "outputs": [],
   "source": [
    "if exists(logFile):\n",
    "    with open(logFile, 'r') as f:\n",
    "        line = f.readline()\n",
    "\n",
    "    if line.strip(\"#\").strip()[:4] == \"uuid\":\n",
    "        old_uuid = line.strip(\"#\").split(\":\")[1].strip()                   \n",
    "        if os.path.isdir(outFolder+name+\"_\"+old_uuid):\n",
    "            uuid = old_uuid\n",
    "            params = get_obj_params(open_log_df(logFile))\n",
    "\n",
    "else:\n",
    "    print(\"There is no log-file. \\nPlease run elliprof to generate the log file and the relevant plots.\")\n",
    "    print(\"Elliprof notebook name: \\\"Run_elliprof_function.ipynb\\\"\")"
   ]
  },
  {
   "cell_type": "code",
   "execution_count": 12,
   "metadata": {},
   "outputs": [],
   "source": [
    "df_log = open_log_df(logFile)\n",
    "sky_med = float(df_log.loc[\"initial_sky_med\"].value)\n",
    "\n",
    "df = open_log_df(logFile)\n",
    "obj_uuid = df.loc['uuid'].value\n",
    "objRoot = outFolder+name+'_'+obj_uuid+'/'\n",
    "\n",
    "X0 = float(df.loc['X0'].value)\n",
    "Y0 = float(df.loc['Y0'].value)\n",
    "\n",
    "Config = {} \n",
    "\n",
    "Config[\"name\"] = name\n",
    "Config[\"inFolder\"] = inFolder\n",
    "Config[\"objRoot\"] = objRoot\n",
    "Config[\"configFolder\"] = configFolder\n",
    "Config[\"X0\"] = X0\n",
    "Config[\"Y0\"] = Y0"
   ]
  },
  {
   "cell_type": "code",
   "execution_count": 13,
   "metadata": {},
   "outputs": [],
   "source": [
    "## renuc factors for Sextractor\n",
    "## 100 Mpc renuc = 1.5\n",
    "## 20 Mpc renuc = 7\n"
   ]
  },
  {
   "cell_type": "code",
   "execution_count": 14,
   "metadata": {},
   "outputs": [
    {
     "data": {
      "text/plain": [
       "'./data/u12517/u12517j.dmask'"
      ]
     },
     "execution_count": 14,
     "metadata": {},
     "output_type": "execute_result"
    }
   ],
   "source": [
    "Dmask = inFolder + \"{}/{}j.dmask\".format(name, name)\n",
    "Dmask"
   ]
  },
  {
   "cell_type": "code",
   "execution_count": 15,
   "metadata": {},
   "outputs": [
    {
     "name": "stdout",
     "output_type": "stream",
     "text": [
      "./output/Outputs_u12517/u12517_9f43b1726bf2/obj.000.pro\n"
     ]
    },
    {
     "data": {
      "text/html": [
       "<div>\n",
       "<style scoped>\n",
       "    .dataframe tbody tr th:only-of-type {\n",
       "        vertical-align: middle;\n",
       "    }\n",
       "\n",
       "    .dataframe tbody tr th {\n",
       "        vertical-align: top;\n",
       "    }\n",
       "\n",
       "    .dataframe thead th {\n",
       "        text-align: right;\n",
       "    }\n",
       "</style>\n",
       "<table border=\"1\" class=\"dataframe\">\n",
       "  <thead>\n",
       "    <tr style=\"text-align: right;\">\n",
       "      <th></th>\n",
       "      <th>NUMBER</th>\n",
       "      <th>X_IMAGE</th>\n",
       "      <th>Y_IMAGE</th>\n",
       "      <th>ALPHA_J2000</th>\n",
       "      <th>DELTA_J2000</th>\n",
       "      <th>MAG_AUTO</th>\n",
       "      <th>MAGERR_AUTO</th>\n",
       "      <th>A_IMAGE</th>\n",
       "      <th>B_IMAGE</th>\n",
       "      <th>THETA_IMAGE</th>\n",
       "      <th>...</th>\n",
       "      <th>MAGERR_APER_1</th>\n",
       "      <th>MAGERR_APER_2</th>\n",
       "      <th>MAGERR_APER_3</th>\n",
       "      <th>MAGERR_APER_4</th>\n",
       "      <th>MAGERR_APER_5</th>\n",
       "      <th>MAG_ISO</th>\n",
       "      <th>MAGERR_ISO</th>\n",
       "      <th>MAG_ISOCOR</th>\n",
       "      <th>MAGERR_ISOCOR</th>\n",
       "      <th>rc</th>\n",
       "    </tr>\n",
       "  </thead>\n",
       "  <tbody>\n",
       "    <tr>\n",
       "      <th>0</th>\n",
       "      <td>1</td>\n",
       "      <td>866.625</td>\n",
       "      <td>37.764</td>\n",
       "      <td>349.972745</td>\n",
       "      <td>43.978395</td>\n",
       "      <td>-12.4392</td>\n",
       "      <td>0.0190</td>\n",
       "      <td>4.543</td>\n",
       "      <td>1.669</td>\n",
       "      <td>-87.0</td>\n",
       "      <td>...</td>\n",
       "      <td>0.0135</td>\n",
       "      <td>0.0</td>\n",
       "      <td>-0.0</td>\n",
       "      <td>0.0</td>\n",
       "      <td>0.0</td>\n",
       "      <td>-12.2363</td>\n",
       "      <td>0.0128</td>\n",
       "      <td>-12.4195</td>\n",
       "      <td>0.0218</td>\n",
       "      <td>604.041376</td>\n",
       "    </tr>\n",
       "    <tr>\n",
       "      <th>1</th>\n",
       "      <td>2</td>\n",
       "      <td>17.345</td>\n",
       "      <td>37.745</td>\n",
       "      <td>349.939545</td>\n",
       "      <td>43.957126</td>\n",
       "      <td>-12.8511</td>\n",
       "      <td>0.0287</td>\n",
       "      <td>5.003</td>\n",
       "      <td>3.423</td>\n",
       "      <td>89.2</td>\n",
       "      <td>...</td>\n",
       "      <td>0.0486</td>\n",
       "      <td>0.0</td>\n",
       "      <td>-0.0</td>\n",
       "      <td>0.0</td>\n",
       "      <td>0.0</td>\n",
       "      <td>-12.0780</td>\n",
       "      <td>0.0188</td>\n",
       "      <td>-12.7826</td>\n",
       "      <td>0.0323</td>\n",
       "      <td>760.462490</td>\n",
       "    </tr>\n",
       "    <tr>\n",
       "      <th>2</th>\n",
       "      <td>3</td>\n",
       "      <td>432.295</td>\n",
       "      <td>30.635</td>\n",
       "      <td>349.955540</td>\n",
       "      <td>43.967697</td>\n",
       "      <td>-11.6309</td>\n",
       "      <td>0.0324</td>\n",
       "      <td>1.995</td>\n",
       "      <td>1.156</td>\n",
       "      <td>54.8</td>\n",
       "      <td>...</td>\n",
       "      <td>0.0234</td>\n",
       "      <td>0.0</td>\n",
       "      <td>-0.0</td>\n",
       "      <td>0.0</td>\n",
       "      <td>0.0</td>\n",
       "      <td>-11.0379</td>\n",
       "      <td>0.0238</td>\n",
       "      <td>-11.2672</td>\n",
       "      <td>0.0422</td>\n",
       "      <td>548.924907</td>\n",
       "    </tr>\n",
       "    <tr>\n",
       "      <th>3</th>\n",
       "      <td>4</td>\n",
       "      <td>491.421</td>\n",
       "      <td>22.990</td>\n",
       "      <td>349.957612</td>\n",
       "      <td>43.969369</td>\n",
       "      <td>-11.1054</td>\n",
       "      <td>0.0366</td>\n",
       "      <td>2.603</td>\n",
       "      <td>1.068</td>\n",
       "      <td>64.0</td>\n",
       "      <td>...</td>\n",
       "      <td>0.0318</td>\n",
       "      <td>0.0</td>\n",
       "      <td>-0.0</td>\n",
       "      <td>0.0</td>\n",
       "      <td>0.0</td>\n",
       "      <td>-10.8328</td>\n",
       "      <td>0.0265</td>\n",
       "      <td>-11.0724</td>\n",
       "      <td>0.0473</td>\n",
       "      <td>544.979912</td>\n",
       "    </tr>\n",
       "    <tr>\n",
       "      <th>4</th>\n",
       "      <td>5</td>\n",
       "      <td>588.438</td>\n",
       "      <td>11.461</td>\n",
       "      <td>349.961044</td>\n",
       "      <td>43.972088</td>\n",
       "      <td>-14.3917</td>\n",
       "      <td>0.0033</td>\n",
       "      <td>4.102</td>\n",
       "      <td>3.164</td>\n",
       "      <td>74.4</td>\n",
       "      <td>...</td>\n",
       "      <td>0.0024</td>\n",
       "      <td>0.0</td>\n",
       "      <td>-0.0</td>\n",
       "      <td>0.0</td>\n",
       "      <td>0.0</td>\n",
       "      <td>-14.3876</td>\n",
       "      <td>0.0033</td>\n",
       "      <td>-14.4284</td>\n",
       "      <td>0.0040</td>\n",
       "      <td>551.546610</td>\n",
       "    </tr>\n",
       "  </tbody>\n",
       "</table>\n",
       "<p>5 rows × 33 columns</p>\n",
       "</div>"
      ],
      "text/plain": [
       "   NUMBER  X_IMAGE  Y_IMAGE  ALPHA_J2000  DELTA_J2000  MAG_AUTO  MAGERR_AUTO  \\\n",
       "0       1  866.625   37.764   349.972745    43.978395  -12.4392       0.0190   \n",
       "1       2   17.345   37.745   349.939545    43.957126  -12.8511       0.0287   \n",
       "2       3  432.295   30.635   349.955540    43.967697  -11.6309       0.0324   \n",
       "3       4  491.421   22.990   349.957612    43.969369  -11.1054       0.0366   \n",
       "4       5  588.438   11.461   349.961044    43.972088  -14.3917       0.0033   \n",
       "\n",
       "   A_IMAGE  B_IMAGE  THETA_IMAGE  ...  MAGERR_APER_1  MAGERR_APER_2  \\\n",
       "0    4.543    1.669        -87.0  ...         0.0135            0.0   \n",
       "1    5.003    3.423         89.2  ...         0.0486            0.0   \n",
       "2    1.995    1.156         54.8  ...         0.0234            0.0   \n",
       "3    2.603    1.068         64.0  ...         0.0318            0.0   \n",
       "4    4.102    3.164         74.4  ...         0.0024            0.0   \n",
       "\n",
       "   MAGERR_APER_3  MAGERR_APER_4  MAGERR_APER_5  MAG_ISO  MAGERR_ISO  \\\n",
       "0           -0.0            0.0            0.0 -12.2363      0.0128   \n",
       "1           -0.0            0.0            0.0 -12.0780      0.0188   \n",
       "2           -0.0            0.0            0.0 -11.0379      0.0238   \n",
       "3           -0.0            0.0            0.0 -10.8328      0.0265   \n",
       "4           -0.0            0.0            0.0 -14.3876      0.0033   \n",
       "\n",
       "   MAG_ISOCOR  MAGERR_ISOCOR          rc  \n",
       "0    -12.4195         0.0218  604.041376  \n",
       "1    -12.7826         0.0323  760.462490  \n",
       "2    -11.2672         0.0422  548.924907  \n",
       "3    -11.0724         0.0473  544.979912  \n",
       "4    -14.4284         0.0040  551.546610  \n",
       "\n",
       "[5 rows x 33 columns]"
      ]
     },
     "execution_count": 15,
     "metadata": {},
     "output_type": "execute_result"
    }
   ],
   "source": [
    "r_aperture = 20  # [pix] radius of the avoding zone\n",
    "\n",
    "# used Dmask instead of mask1\n",
    "catalName, catal_df, sex_objname, sex_mask, sex_masked, residual = SExtract(model=0, \n",
    "                                       smooth=1.0, minArea=10, thresh=2.5,\n",
    "                                       r_aperture = r_aperture,   # [pixel] ignore objects within the aperture\n",
    "                                       renuc=2, **Config) \n",
    "\n",
    "catal_df.head()"
   ]
  },
  {
   "cell_type": "markdown",
   "metadata": {},
   "source": [
    "## Ds9\n",
    "\n",
    "Open ds9 and wait for its window to fully appear"
   ]
  },
  {
   "cell_type": "code",
   "execution_count": null,
   "metadata": {},
   "outputs": [],
   "source": [
    "os.system(\"ds9 \"+sex_mask+\" &\")"
   ]
  },
  {
   "cell_type": "markdown",
   "metadata": {},
   "source": [
    "### Regions Guid\n",
    "\n",
    "- green: extended opbject\n",
    "- red: star, point source\n",
    "- cyan: ignored\n",
    "- yellow: avoding zone"
   ]
  },
  {
   "cell_type": "code",
   "execution_count": null,
   "metadata": {},
   "outputs": [],
   "source": [
    "r_aperture = 60   # [pix] radius of the avoding zone\n",
    "\n",
    "catalName, catal_df, sex_objname, sex_mask, sex_masked, residual = SExtract(\n",
    "                                       model=0,\n",
    "                                       smooth=1.0, minArea=5, thresh=2.0,\n",
    "                                       r_aperture = r_aperture,   # [pixel] ignore objects within the aperture\n",
    "                                       renuc=2, **Config) \n",
    "\n",
    "make_se_lkn(catal_df, model=0, star_f=0.8, r_aperture=r_aperture, **Config)\n",
    "\n",
    "os.system(\"xpaset -p ds9 regions delete all\")\n",
    "os.system(\"xpaset -p ds9 regions ./ds9.reg &\")"
   ]
  },
  {
   "cell_type": "code",
   "execution_count": null,
   "metadata": {},
   "outputs": [],
   "source": [
    "sex_mask"
   ]
  },
  {
   "cell_type": "markdown",
   "metadata": {},
   "source": [
    "- yellow: ignore\n",
    "- cyan: point sources\n",
    "- green: galaxies, extended objects"
   ]
  },
  {
   "cell_type": "markdown",
   "metadata": {},
   "source": [
    "## Ds9 "
   ]
  },
  {
   "cell_type": "code",
   "execution_count": null,
   "metadata": {},
   "outputs": [],
   "source": [
    "# http://ds9.si.edu/doc/ref/xpa.html\n",
    "os.system(\"xpaset -p ds9 regions delete all\")\n",
    "os.system(\"xpaset -p ds9 regions ./ds9.reg &\")\n",
    "\n",
    "\n",
    "# set image scale\n",
    "os.system(\"xpaset -p ds9 scale log &\")\n",
    "os.system(\"xpaset -p ds9 scale limits -4100 200000 &\")\n",
    "\n",
    "# os.system(\"xpaset -p ds9 cmap grey &\")\n",
    "os.system(\"xpaset -p ds9 cmap value 7.9 0.47 &\")\n",
    "\n",
    "os.system(\"xpaset -p ds9 regions delete all\")\n",
    "rm = False"
   ]
  },
  {
   "cell_type": "code",
   "execution_count": null,
   "metadata": {},
   "outputs": [],
   "source": [
    "class my_button:\n",
    "    \n",
    "    def __init__(self, status):\n",
    "        self.status = status\n",
    "        self.button = widgets.Button(description='Regions On/Off')\n",
    "        self.button.on_click(clicked)\n",
    "        \n",
    "    def clicked():\n",
    "        self.on_off()\n",
    "            \n",
    "    def on_off(self):\n",
    "        if self.status:\n",
    "            os.system(\"xpaset -p ds9 regions delete all\")\n",
    "            self.status=False\n",
    "        else:\n",
    "            os.system(\"xpaset -p ds9 regions ./ds9.reg &\")\n",
    "            self.status=True    \n",
    "\n",
    "widgets.VBox([my_button(rm).button])"
   ]
  },
  {
   "cell_type": "markdown",
   "metadata": {},
   "source": [
    "## Deleting / Loading Regions"
   ]
  },
  {
   "cell_type": "code",
   "execution_count": null,
   "metadata": {},
   "outputs": [],
   "source": [
    "try:\n",
    "    if rm:\n",
    "        os.system(\"xpaset -p ds9 regions delete all\")\n",
    "        rm=False\n",
    "    else:\n",
    "        os.system(\"xpaset -p ds9 regions ./ds9.reg &\")\n",
    "        rm=True\n",
    "except:\n",
    "    rm = False\n"
   ]
  },
  {
   "cell_type": "code",
   "execution_count": null,
   "metadata": {},
   "outputs": [],
   "source": [
    "## create the maks of the extended objects + Dmask --> dophot"
   ]
  },
  {
   "cell_type": "markdown",
   "metadata": {},
   "source": [
    "## Visualizations"
   ]
  },
  {
   "cell_type": "code",
   "execution_count": null,
   "metadata": {},
   "outputs": [],
   "source": [
    "fig, AX = plt.subplots(2,3, figsize=(15,10))\n",
    "\n",
    "\n",
    "ax1 = tv(residual, ax=AX[0][0])\n",
    "ax2 = tv(sex_objname, ax=AX[0][1])\n",
    "ax3 = tv(sex_masked, ax=AX[0][2], options='')\n",
    "\n",
    "ax1.set_title(\"Galaxy - Model\")\n",
    "ax2.set_title(\"SEx. obj. segmentation\")\n",
    "ax3.set_title(\"Sex. objects masked\")\n",
    "\n",
    "zoom = 5\n",
    "ax1 = tv(sex_mask, ax=AX[1][0], XY=[X0,Y0], zoom=zoom, options='sqrt')\n",
    "ax2 = tv(sex_objname, ax=AX[1][1], XY=[X0,Y0], zoom=zoom)\n",
    "ax3 = tv(sex_masked, ax=AX[1][2], XY=[X0,Y0], zoom=zoom, options='sqrt')"
   ]
  },
  {
   "cell_type": "code",
   "execution_count": null,
   "metadata": {},
   "outputs": [],
   "source": []
  },
  {
   "cell_type": "code",
   "execution_count": null,
   "metadata": {},
   "outputs": [],
   "source": [
    "residual"
   ]
  },
  {
   "cell_type": "code",
   "execution_count": null,
   "metadata": {},
   "outputs": [],
   "source": [
    "os.system(\"ds9 \"+sex_masked+\" &\")"
   ]
  },
  {
   "cell_type": "code",
   "execution_count": null,
   "metadata": {},
   "outputs": [],
   "source": []
  },
  {
   "cell_type": "code",
   "execution_count": null,
   "metadata": {},
   "outputs": [],
   "source": [
    "os.system(\"ds9 \"+sex_mask+\"  \"+sex_objname+\" &\")"
   ]
  },
  {
   "cell_type": "code",
   "execution_count": null,
   "metadata": {},
   "outputs": [],
   "source": []
  }
 ],
 "metadata": {
  "kernelspec": {
   "display_name": "Python 3",
   "language": "python",
   "name": "python3"
  },
  "language_info": {
   "codemirror_mode": {
    "name": "ipython",
    "version": 3
   },
   "file_extension": ".py",
   "mimetype": "text/x-python",
   "name": "python",
   "nbconvert_exporter": "python",
   "pygments_lexer": "ipython3",
   "version": "3.8.5"
  }
 },
 "nbformat": 4,
 "nbformat_minor": 4
}
