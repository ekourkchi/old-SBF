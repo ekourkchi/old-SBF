{
 "cells": [
  {
   "cell_type": "markdown",
   "metadata": {},
   "source": [
    "## Installing Required Python Packages\n",
    "\n",
    "Note: run the following cell once. "
   ]
  },
  {
   "cell_type": "code",
   "execution_count": 1,
   "metadata": {},
   "outputs": [],
   "source": [
    "# !pip install -r requirements.txt"
   ]
  },
  {
   "cell_type": "markdown",
   "metadata": {},
   "source": [
    "## Importing essential Python Packages"
   ]
  },
  {
   "cell_type": "code",
   "execution_count": 2,
   "metadata": {},
   "outputs": [],
   "source": [
    "import os, sys\n",
    "\n",
    "import numpy as np\n",
    "from scipy.linalg import eigh\n",
    "from scipy.optimize import minimize_scalar\n",
    "import matplotlib.pyplot as plt\n",
    "import scipy.linalg as sla\n",
    "import pandas as pd\n",
    "import numpy as np\n",
    "from matplotlib import patches\n",
    "import matplotlib.pyplot as plt\n",
    "import matplotlib.image as mpimg\n",
    "from scipy import optimize\n",
    "from scipy.optimize import minimize\n",
    "from astropy.io import fits\n",
    "from astropy import wcs\n",
    "from matplotlib import cm\n",
    "from matplotlib.colors import LogNorm\n",
    "\n",
    "import warnings\n",
    "warnings.filterwarnings('ignore')\n",
    "\n",
    "%matplotlib notebook\n",
    "# %matplotlib inline\n",
    "# %matplotlib widget\n",
    "# %matplotlib ipympl"
   ]
  },
  {
   "cell_type": "markdown",
   "metadata": {},
   "source": [
    "`sbfTools` hold all the auxiliary functions we use in this notebook.\n",
    "Make sure that `sbfTools.py` is in located in the same folder as this notebook."
   ]
  },
  {
   "cell_type": "code",
   "execution_count": 3,
   "metadata": {},
   "outputs": [],
   "source": [
    "# make sure \n",
    "from sbfTools import *"
   ]
  },
  {
   "cell_type": "markdown",
   "metadata": {},
   "source": [
    "## Object Initialization"
   ]
  },
  {
   "cell_type": "code",
   "execution_count": 4,
   "metadata": {},
   "outputs": [],
   "source": [
    "## This is the folder that holds recent observations by wfc3 on HST in a SNAP program\n",
    "\n",
    "# inFolder = '/media/Data/Home/PanStarrs/Jan/HI/augment/SBF/wfc3-16262/'\n",
    "galaxy_root = '/media/Data/Home/PanStarrs/Jan/HI/augment/SBF/codes/'\n",
    "configFolder = '/media/Data/Home/PanStarrs/Jan/HI/augment/SBF/codes/notebooks/config/'"
   ]
  },
  {
   "cell_type": "code",
   "execution_count": null,
   "metadata": {
    "scrolled": false
   },
   "outputs": [],
   "source": []
  },
  {
   "cell_type": "code",
   "execution_count": 11,
   "metadata": {},
   "outputs": [],
   "source": [
    "name = \"n0679\"\n",
    "\n",
    "outFolder = \"Outputs_\"+name + '/'\n",
    "createDir(outFolder)\n",
    "\n",
    "full_name = galaxy_root + name + '/ps/' + name\n",
    "\n",
    "NR = str(100)"
   ]
  },
  {
   "cell_type": "code",
   "execution_count": 14,
   "metadata": {},
   "outputs": [
    {
     "data": {
      "text/plain": [
       "'OK'"
      ]
     },
     "execution_count": 14,
     "metadata": {},
     "output_type": "execute_result"
    }
   ],
   "source": [
    "monsta_script = \"\"\"\n",
    "    string name '\"\"\"+full_name+\"\"\"'\n",
    "    rd 1 '{name}g.fits'\n",
    "    rd 2 '{name}z.fits'\n",
    "    clip 1 nan=0\n",
    "    clip 2 nan=0\n",
    "    tv 1\n",
    "    set nr=\"\"\"+NR+\"\"\"/10$nint\n",
    "    string nr '%i2.0' nr\n",
    "    cop 3 1\n",
    "    cop 4 2\n",
    "    tv 3 zoom=2\n",
    "    elliprof 3 tv model rmstar x0=1500 y0=1500 r0=7 r1=\"\"\"+NR+\"\"\" nr=nr niter=5\n",
    "    tv 4 zoom=2\n",
    "    elliprof 4 tv model rmstar x0=1500 y0=1500 r0=7 r1=\"\"\"+NR+\"\"\" nr=nr niter=5\n",
    "    cop 5 1\n",
    "    si 5 3\n",
    "    cop 6 2\n",
    "    si 6 4\n",
    "    wd 5 '{name}g.resid'\n",
    "    wd 6 '{name}z.resid'\n",
    "\n",
    "    ! run SExtractor\n",
    "    % sex {name}g.resid -c config/sextractor/psg.inpar -CATALOG_NAME \"\"\" +outFolder+\"\"\"/psg.cat -CHECKIMAGE_NAME \"\"\" +outFolder+\"\"\"/psg.obj\n",
    "    % sex {name}z.resid -c config/sextractor/psz.inpar -CATALOG_NAME \"\"\" +outFolder+\"\"\"/psz.cat -CHECKIMAGE_NAME \"\"\" +outFolder+\"\"\"/psz.obj\n",
    "\n",
    "    rd 7 \"\"\"+outFolder+\"\"\"/psg.obj\n",
    "    rd 8 \"\"\"+outFolder+\"\"\"/psz.obj\n",
    "    tv 7\n",
    "    tv 8\n",
    "    di 7 7\n",
    "    di 8 8\n",
    "    mi 8 7\n",
    "    wd 8 \"\"\"+outFolder+name+\"\"\".PS.mask bitmap\n",
    "\"\"\"\n",
    "\n",
    "run_monsta(monsta_script, 'monsta.pro', 'monsta.log')"
   ]
  },
  {
   "cell_type": "code",
   "execution_count": null,
   "metadata": {},
   "outputs": [],
   "source": []
  },
  {
   "cell_type": "code",
   "execution_count": null,
   "metadata": {},
   "outputs": [],
   "source": []
  },
  {
   "cell_type": "code",
   "execution_count": null,
   "metadata": {},
   "outputs": [],
   "source": []
  },
  {
   "cell_type": "code",
   "execution_count": null,
   "metadata": {},
   "outputs": [],
   "source": []
  }
 ],
 "metadata": {
  "kernelspec": {
   "display_name": "Python 3",
   "language": "python",
   "name": "python3"
  },
  "language_info": {
   "codemirror_mode": {
    "name": "ipython",
    "version": 3
   },
   "file_extension": ".py",
   "mimetype": "text/x-python",
   "name": "python",
   "nbconvert_exporter": "python",
   "pygments_lexer": "ipython3",
   "version": "3.8.5"
  }
 },
 "nbformat": 4,
 "nbformat_minor": 4
}
