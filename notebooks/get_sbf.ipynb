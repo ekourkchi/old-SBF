{
 "cells": [
  {
   "cell_type": "code",
   "execution_count": 1,
   "metadata": {},
   "outputs": [],
   "source": [
    "import os, sys\n",
    "\n",
    "import numpy as np\n",
    "from scipy.linalg import eigh\n",
    "from scipy.optimize import minimize_scalar\n",
    "import matplotlib.pyplot as plt\n",
    "import scipy.linalg as sla\n",
    "import pandas as pd\n",
    "import numpy as np\n",
    "from matplotlib import patches\n",
    "import matplotlib.pyplot as plt\n",
    "import matplotlib.image as mpimg\n",
    "from scipy import optimize\n",
    "from scipy.optimize import minimize\n",
    "from astropy.io import fits\n",
    "from astropy import wcs\n",
    "from matplotlib import cm\n",
    "from matplotlib.colors import LogNorm\n",
    "\n",
    "import warnings\n",
    "warnings.filterwarnings('ignore')\n",
    "\n",
    "%matplotlib notebook\n",
    "# %matplotlib inline\n",
    "# %matplotlib widget\n",
    "# %matplotlib ipympl"
   ]
  },
  {
   "cell_type": "code",
   "execution_count": 1,
   "metadata": {},
   "outputs": [
    {
     "ename": "NameError",
     "evalue": "name 'sys' is not defined",
     "output_type": "error",
     "traceback": [
      "\u001b[0;31m---------------------------------------------------------------------------\u001b[0m",
      "\u001b[0;31mNameError\u001b[0m                                 Traceback (most recent call last)",
      "\u001b[0;32m<ipython-input-1-469ae5a39db4>\u001b[0m in \u001b[0;36m<module>\u001b[0;34m\u001b[0m\n\u001b[1;32m      1\u001b[0m \u001b[0mpysbf_path\u001b[0m \u001b[0;34m=\u001b[0m \u001b[0;34m\"/media/Data/Home/PanStarrs/Jan/HI/augment/SBF/codes/\"\u001b[0m\u001b[0;34m\u001b[0m\u001b[0;34m\u001b[0m\u001b[0m\n\u001b[0;32m----> 2\u001b[0;31m \u001b[0msys\u001b[0m\u001b[0;34m.\u001b[0m\u001b[0mpath\u001b[0m\u001b[0;34m.\u001b[0m\u001b[0minsert\u001b[0m\u001b[0;34m(\u001b[0m\u001b[0;36m0\u001b[0m\u001b[0;34m,\u001b[0m \u001b[0mpysbf_path\u001b[0m\u001b[0;34m)\u001b[0m\u001b[0;34m\u001b[0m\u001b[0;34m\u001b[0m\u001b[0m\n\u001b[0m\u001b[1;32m      3\u001b[0m \u001b[0;32mfrom\u001b[0m \u001b[0mpysbf\u001b[0m \u001b[0;32mimport\u001b[0m \u001b[0;34m*\u001b[0m\u001b[0;34m\u001b[0m\u001b[0;34m\u001b[0m\u001b[0m\n",
      "\u001b[0;31mNameError\u001b[0m: name 'sys' is not defined"
     ]
    }
   ],
   "source": [
    "pysbf_path = \"/media/Data/Home/PanStarrs/Jan/HI/augment/SBF/codes/\"\n",
    "sys.path.insert(0, pysbf_path)\n",
    "from pysbf import *"
   ]
  },
  {
   "cell_type": "code",
   "execution_count": null,
   "metadata": {},
   "outputs": [],
   "source": []
  },
  {
   "cell_type": "code",
   "execution_count": null,
   "metadata": {},
   "outputs": [],
   "source": [
    "X0 = 563     # Object Center X0 [pixel]\n",
    "Y0 = 563     # Object Center Y0 [pixel]\n",
    "\n",
    "galaxy_name = \"u03396\"\n",
    "inFolder = '/media/Data/Home/PanStarrs/Jan/HI/augment/SBF/wfc3-16262/'\n",
    "\n",
    "version = \"sej\"\n",
    "\n",
    "PRF = \"Outputs_u03396/u03396_6fd5c4cbba17/model.000\"\n",
    "RSD = \"Outputs_u03396/u03396_6fd5c4cbba17/resid.000\"\n",
    "\n",
    "PTM = inFolder+\"u03396/u03396sej.ptm6b\"  # point source mask, comes from likenew6 (tuned for infrared bands)\n",
    "# ptm6 default output of likenew: sometimes misses objects that are super bright\n",
    "# ptm6b --> produced after further manipulations\n",
    "\n",
    "## not different by a lot\n",
    "## model pswf --> blur psf\n",
    "## trying multiple psf --> averaging out the results, or using them for error measuremnt\n",
    "## combinedj.on.bright.psf.14219 sharpest one, good starting \n",
    "## PSFstd --> mode l psf from space teelscope\n",
    "# PSF = inFolder+\"/psflibrary/PSFSTD_WFC3IR_F110W.fits\"\n",
    "\n",
    "PSF = inFolder+\"/psflibrary/combinedj.on.psf.14654\"\n",
    "\n",
    "KS0 = 25\n",
    "KS1 = 60\n",
    "\n",
    "# PSF = \n",
    "psforder = 4\n",
    "psfk0 = 0\n",
    "psfk1 = 15\n",
    "\n"
   ]
  },
  {
   "cell_type": "code",
   "execution_count": null,
   "metadata": {},
   "outputs": [],
   "source": [
    "fig, (ax1, ax2, ax3, ax4) = plt.subplots(1, 4, figsize=(12,4))\n",
    "\n",
    "tv(PSF, ax=ax1, options=\"sqrt\"); ax1.set_title(\"PSF\")\n",
    "tv(PRF, ax=ax2, options=\"sqrt\"); ax2.set_title(\"Profile\")\n",
    "tv(RSD, ax=ax3); ax3.set_title(\"Residual\")\n",
    "tv(PTM, ax=ax4); ax4.set_title(\"Point Source Mask\")"
   ]
  },
  {
   "cell_type": "markdown",
   "metadata": {},
   "source": [
    "```string name '{arg2}'      ! galaxy name\n",
    "string version '{arg3}'   ! sej or doj   ---for  dophot sextractor\n",
    "string X0 '{arg4}'        ! center\n",
    "string Y0 '{arg5}'\n",
    "string KS0 '{arg6}'       ! fit wave fumbers  ~25\n",
    "string KS1 '{arg7}'       ! ~ 60\n",
    "string PSF '{arg8}'       ! name of the PSF files\n",
    "string psforder '{arg9}'  ! usually 4th order fit \n",
    "string psfk0 '0'          ! same as wavenumbers  ~0\n",
    "string psfk1 '{arga}'     ! ~10-20\n",
    "string OK 'N'             ! \n",
    "printf '{name},{PSF}'```"
   ]
  },
  {
   "cell_type": "code",
   "execution_count": 5,
   "metadata": {},
   "outputs": [
    {
     "data": {
      "text/plain": [
       "'OK'"
      ]
     },
     "execution_count": 5,
     "metadata": {},
     "output_type": "execute_result"
    }
   ],
   "source": [
    "r0 = 32\n",
    "r1 = 64\n",
    "a0 = 0\n",
    "a1 = 360\n",
    "\n",
    "monsta_script = \"\"\"\n",
    "\n",
    "    rd 1 '\"\"\"+str(PSF)+\"\"\"'                   ! reading psf from library\n",
    "    rd 2 '\"\"\"+str(PRF)+\"\"\"'                   ! eliprof final model\n",
    "    rd 3 '\"\"\"+str(RSD)+\"\"\"'                   ! galaxy subtracted residual\n",
    "    rd 5 '\"\"\"+str(PTM)+\"\"\"' bitmap            ! hybrid point source mask  (dophot+sextractor)\n",
    "    mi 3 5\n",
    "\n",
    "    cop 4 1\n",
    "    open 6 nr=512 nc=512\n",
    "    fluc 6 5 mask x0=\"\"\"+str(X0)+\"\"\" y0=\"\"\"+str(Y0)+\"\"\" r0=\"\"\"+str(r0)+\"\"\" r1=\"\"\"+str(r1)+\"\"\" a0=\"\"\"+str(a0)+\"\"\" a1=\"\"\"+str(a1)+\"\"\" ! c0     taking the donut shape and putting the mask\n",
    "    cop 7 6\n",
    "    mi 7 3\n",
    "    tv 7\n",
    "    fluc 6 2 window         ! taking the fft of the mask multiply by the sqrt of the galaxy profile \n",
    "    fluc 6 4 expect order=\"\"\"+str(psforder)+\"\"\" k0=\"\"\"+str(psfk0)+\"\"\" k1=\"\"\"+str(psfk1)+\"\"\"   ! expectation power spectrum for psf  0->20\n",
    "    fft 8 7\n",
    "    power 4 8\n",
    "    fluc 6 4 fit ks0=\"\"\"+str(KS0)+\"\"\" ks1=\"\"\"+str(KS1)+\"\"\" plot   ! 6:expectation opower spectrum   4:the power spectrum of data   ks: the power range\n",
    "    print fluc file=test.c0     \n",
    "\n",
    "\"\"\"\n",
    "\n",
    "\n",
    "run_monsta(monsta_script, 'monsta.pro', 'monsta.log')"
   ]
  },
  {
   "cell_type": "code",
   "execution_count": 6,
   "metadata": {},
   "outputs": [
    {
     "name": "stdout",
     "output_type": "stream",
     "text": [
      "Unity = 0.033     Average radius =    50.1\r\n",
      "Autoscaling: threshold =  -1056.47         saturation =   1170.70    \r\n",
      "Residual radius =    50.1     m_res =  0.00\r\n",
      "Unity = 0.033     Galaxy average = 38085.5\r\n",
      " PSF scaled by 7.501E+08\r\n",
      " Mongo commands: power, p0, fluc, etc\r\n",
      " 1:k 2:E 3:D 4:Efit 5:R 6:P0 7:P1 8:dP0 9:dP1 10:rms 11:Chi/n\r\n",
      " Averaging fits from wavenumbers          25          60\r\n",
      " P0 =  3.253E+01 +/-  0.00        P1 =  1.66 +/- 0.00     ( 1.984E+03)\r\n",
      " rms in P0 =      0.58        Fit range =  25  60     Correlation r = 0.9718\r\n",
      " >> "
     ]
    }
   ],
   "source": [
    "! cat monsta.log"
   ]
  },
  {
   "cell_type": "code",
   "execution_count": null,
   "metadata": {},
   "outputs": [],
   "source": []
  },
  {
   "cell_type": "code",
   "execution_count": null,
   "metadata": {},
   "outputs": [],
   "source": [
    "output \n",
    "C0\n",
    "...\n",
    "..\n",
    ".\n"
   ]
  },
  {
   "cell_type": "code",
   "execution_count": null,
   "metadata": {},
   "outputs": [],
   "source": [
    "fter this step\n",
    "\n",
    "\n",
    "- bestfluc sej/doj (probably the hybrid option is enough)\n",
    "\n",
    "inputs : C0 C1 ....\n",
    "    and lkn6 files"
   ]
  },
  {
   "cell_type": "code",
   "execution_count": null,
   "metadata": {},
   "outputs": [],
   "source": []
  },
  {
   "cell_type": "code",
   "execution_count": null,
   "metadata": {},
   "outputs": [],
   "source": [
    "bestfluc outputs  + PS (g-z)   --> distance"
   ]
  },
  {
   "cell_type": "code",
   "execution_count": null,
   "metadata": {},
   "outputs": [],
   "source": []
  },
  {
   "cell_type": "code",
   "execution_count": null,
   "metadata": {},
   "outputs": [],
   "source": []
  },
  {
   "cell_type": "code",
   "execution_count": null,
   "metadata": {},
   "outputs": [],
   "source": []
  }
 ],
 "metadata": {
  "kernelspec": {
   "display_name": "Python 3",
   "language": "python",
   "name": "python3"
  },
  "language_info": {
   "codemirror_mode": {
    "name": "ipython",
    "version": 3
   },
   "file_extension": ".py",
   "mimetype": "text/x-python",
   "name": "python",
   "nbconvert_exporter": "python",
   "pygments_lexer": "ipython3",
   "version": "3.8.5"
  }
 },
 "nbformat": 4,
 "nbformat_minor": 4
}
