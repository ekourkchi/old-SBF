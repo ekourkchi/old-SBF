{
 "cells": [
  {
   "cell_type": "code",
   "execution_count": 19,
   "metadata": {},
   "outputs": [],
   "source": [
    "import sys, os\n",
    "\n",
    "pysbf_path = \"/media/Data/Home/PanStarrs/Jan/HI/augment/SBF/codes/\"\n",
    "sys.path.insert(0, pysbf_path)\n",
    "from pysbf import *\n",
    "\n",
    "from IPython.display import display, Markdown, clear_output\n",
    "warnings.filterwarnings('ignore')"
   ]
  },
  {
   "cell_type": "code",
   "execution_count": null,
   "metadata": {},
   "outputs": [],
   "source": []
  },
  {
   "cell_type": "code",
   "execution_count": 20,
   "metadata": {},
   "outputs": [],
   "source": [
    "inFolder = './data/'\n",
    "outFolder = './output/'\n",
    "configFolder = pysbf_path + 'pysbf/config/'"
   ]
  },
  {
   "cell_type": "code",
   "execution_count": 36,
   "metadata": {},
   "outputs": [],
   "source": [
    "name = \"u12517\"\n",
    "\n",
    "model = 0   # the main model\n",
    "suffix = \".%03d\" % model"
   ]
  },
  {
   "cell_type": "code",
   "execution_count": null,
   "metadata": {},
   "outputs": [],
   "source": []
  },
  {
   "cell_type": "code",
   "execution_count": 22,
   "metadata": {},
   "outputs": [],
   "source": [
    "outFolder += \"Outputs_\"+name+'/'\n",
    "logFile = outFolder+name+\"_model_log.csv\"\n",
    "\n",
    "\n",
    "if exists(logFile):\n",
    "    with open(logFile, 'r') as f:\n",
    "        line = f.readline()\n",
    "\n",
    "    if line.strip(\"#\").strip()[:4] == \"uuid\":\n",
    "        old_uuid = line.strip(\"#\").split(\":\")[1].strip()                   \n",
    "        if os.path.isdir(outFolder+name+\"_\"+old_uuid):\n",
    "            uuid = old_uuid\n",
    "            params = get_obj_params(open_log_df(logFile))\n",
    "\n",
    "else:\n",
    "    print(\"There is no log-file. \\nPlease run elliprof to generate the log file and the relevant plots.\")\n",
    "    print(\"Elliprof notebook name: \\\"Run_elliprof_function.ipynb\\\"\")"
   ]
  },
  {
   "cell_type": "code",
   "execution_count": 23,
   "metadata": {},
   "outputs": [],
   "source": [
    "df_log = open_log_df(logFile)\n",
    "sky_med = float(df_log.loc[\"initial_sky_med\"].value)\n",
    "\n",
    "df = open_log_df(logFile)\n",
    "obj_uuid = df.loc['uuid'].value\n",
    "objRoot = outFolder+name+'_'+obj_uuid+'/'\n",
    "\n",
    "X0 = float(df.loc['X0'].value)\n",
    "Y0 = float(df.loc['Y0'].value)\n",
    "\n",
    "Config = {} \n",
    "\n",
    "Config[\"name\"] = name\n",
    "Config[\"inFolder\"] = inFolder\n",
    "Config[\"objRoot\"] = objRoot\n",
    "Config[\"configFolder\"] = configFolder\n",
    "Config[\"X0\"] = X0\n",
    "Config[\"Y0\"] = Y0\n",
    "\n",
    "SKY = df.loc[\"sky\"].value"
   ]
  },
  {
   "cell_type": "code",
   "execution_count": 25,
   "metadata": {},
   "outputs": [],
   "source": [
    "hdu_list = fits.open(inFolder + \"{}/{}j.fits\".format(name, name))\n",
    "image_data = hdu_list[0].data\n",
    "\n",
    "TOP = str(int(np.ceil(np.max(image_data))))       # \n",
    "BOTTOM = str(int(np.floor(np.min(image_data))))   # ~1000, -2000"
   ]
  },
  {
   "cell_type": "code",
   "execution_count": 27,
   "metadata": {},
   "outputs": [],
   "source": []
  },
  {
   "cell_type": "code",
   "execution_count": null,
   "metadata": {},
   "outputs": [],
   "source": []
  },
  {
   "cell_type": "code",
   "execution_count": 28,
   "metadata": {},
   "outputs": [],
   "source": [
    "THRESHMAX   = TOP # 1850000   # around saturation level\n",
    "THRESHMIN   = 1000  \n",
    " \n",
    "SCALEAPRADIUS = 3.0\n",
    "\n",
    "RDNOISE = 200    \n",
    "FWHM    = 1.4    # same most of the time"
   ]
  },
  {
   "cell_type": "code",
   "execution_count": 136,
   "metadata": {},
   "outputs": [],
   "source": [
    "IMAGE_IN    =  \"resid.000\" # \"resid\" + suffix   ## can be resid + (extended objects + Dmask --> dophot)\n",
    "IMAGE_VAR = \"masked_sej.000\"\n",
    "\n",
    "\n",
    "# IMAGE_VAR   =  \"dvar\" + suffix  ## renuc factor 2x the one used for sextractor\n",
    "IMAGE_OUT   =  \"dpr\" + suffix   ## temp file to use in ds9\n",
    "OBJECTS_OUT =  \"dpo\" + suffix   ## the most important\n",
    "FINISHFILE  =  \"dfin\" + suffix  ## remove this (for running dophot mulitple times)"
   ]
  },
  {
   "cell_type": "code",
   "execution_count": 137,
   "metadata": {},
   "outputs": [],
   "source": [
    "## making dpar files"
   ]
  },
  {
   "cell_type": "code",
   "execution_count": 138,
   "metadata": {},
   "outputs": [],
   "source": [
    "dophot_params = \"\"\"\n",
    "= \"\"\" + name + \"\"\" GO-16262\n",
    "SKY = \"\"\"+SKY+\"\"\"     Approximate mean sky value in data numbers.\n",
    "FWHM = \"\"\"+str(FWHM)+\"\"\"             Approx FWHM of objects (pixels) along major axis.\n",
    "AXIS_RATIO = 0.9       For star objects.  AR=b/a; b=minor axis.\n",
    "TILT = 90.0            Angle of major axis in degrees; +x=0; +y=90.\n",
    "EPERDN = 1.0           Electrons per data number.\n",
    "RDNOISE = \"\"\"+str(RDNOISE)+\"\"\"         Readout noise in electrons.\n",
    "TOP = \"\"\"+TOP+\"\"\"          Maximum allowed data value in data numbers.\n",
    "=\n",
    "AUTOSCALE = 'YES'      Auto-scaling of fitting and masking radii by FWHM.\n",
    "AUTOSCALEAP = 'YES'    Auto-scaling of star and sky aperture radii by FWHM.\n",
    "AUTOTHRESH = 'NO'      Auto-scaling of thresholds and bottom.\n",
    "AUTOBLIT = 'YES'       Auto-scaling of obliteration parameters.\n",
    "AUTOMEDSCALE = 'YES'   Auto-scaling for median filter box size.\n",
    "= If autothresh=no take these parameters.\n",
    "BOTTOM = \"\"\"+BOTTOM+\"\"\"       Lowest allowed data value in data numbers.\n",
    "THRESHMAX = \"\"\"+str(THRESHMAX)+\"\"\"    Value of maximum threshold.\n",
    "THRESHMIN = \"\"\"+str(THRESHMIN)+\"\"\"     Value of lowest threshold.\n",
    "=\n",
    "PARAMS_DEFAULT = 'paramdefault'   Default parameters file name.\n",
    "IMAGE_IN = '\"\"\"+IMAGE_IN+\"\"\"'            Input image name. \n",
    "=  If desired a file of extra variance can be specified, which is\n",
    "=  added to the normal variance of (DATA/eADU)+(RN/eADU)^2.  Note\n",
    "=  that it must have proper ADU^2 units of variance \n",
    "IMAGE_VAR = '\"\"\"+IMAGE_VAR+\"\"\"'            Input extra variance image\n",
    "IMAGE_OUT = '\"\"\"+IMAGE_OUT+\"\"\"'             Output image name.\n",
    "OBJECTS_OUT = '\"\"\"+OBJECTS_OUT+\"\"\"'           Output object list file name.\n",
    "CENTINTMAX = \"\"\"+TOP+\"\"\"              Obliterate if central intensity exceeds this.\n",
    "TOPSAT = \"\"\"+TOP+\"\"\"                  Ignore pixels with higher counts in saturated stars.\n",
    "=\n",
    "OBJTYPE_IN = 'INTERNAL'     Input format: (COMPLETE, INTERNAL, BINARY)\n",
    "OBJTYPE_OUT = 'COMPLETE'    Output format: (COMPLETE, INTERNAL,INCOMPLETE, BINARY,DAOPHOT)\n",
    "=   If autoscaleap=yes determine parameters using\n",
    "SCALEAPRADIUS = \"\"\"+str(SCALEAPRADIUS)+\"\"\"    Size of aperture phot radius in units of FWHM.\n",
    "END\n",
    "\"\"\"\n"
   ]
  },
  {
   "cell_type": "code",
   "execution_count": 139,
   "metadata": {},
   "outputs": [],
   "source": [
    "DPAR_FILE = objRoot + \"dpar\" + suffix\n",
    "\n",
    "with open(DPAR_FILE, 'w') as f:\n",
    "    f.write(dophot_params)"
   ]
  },
  {
   "cell_type": "code",
   "execution_count": 140,
   "metadata": {},
   "outputs": [
    {
     "data": {
      "text/plain": [
       "'./output/Outputs_u12517/u12517_9f43b1726bf2/dpar.000'"
      ]
     },
     "execution_count": 140,
     "metadata": {},
     "output_type": "execute_result"
    }
   ],
   "source": [
    "DPAR_FILE "
   ]
  },
  {
   "cell_type": "code",
   "execution_count": 141,
   "metadata": {},
   "outputs": [],
   "source": [
    "cwd = os.getcwd()"
   ]
  },
  {
   "cell_type": "code",
   "execution_count": 142,
   "metadata": {},
   "outputs": [
    {
     "data": {
      "text/plain": [
       "'/media/Data/Home/PanStarrs/Jan/HI/augment/SBF/codes/notebooks'"
      ]
     },
     "execution_count": 142,
     "metadata": {},
     "output_type": "execute_result"
    }
   ],
   "source": [
    "os.chdir( '/media/Data/Home/PanStarrs/Jan/HI/augment/SBF/codes/notebooks')\n",
    "os.getcwd()"
   ]
  },
  {
   "cell_type": "code",
   "execution_count": 143,
   "metadata": {},
   "outputs": [
    {
     "name": "stdout",
     "output_type": "stream",
     "text": [
      "\n",
      "cp /media/Data/Home/PanStarrs/Jan/HI/augment/SBF/codes/pysbf/config//dophot/paramdefault .\n",
      "\n",
      "dophot dpar.000 2>&1 | tee dophot.log\n",
      " From frame header: NX, NY =   1025  1022  resid.000                               \n",
      " From variance header: NX, NY =   1025  1022  masked_sej.000                          \n",
      "DoPhot iter  1 of 10 at thresh********   Nfound       0 total       0\n",
      "DoPhot iter  2 of 10 at thresh776046.9   Nfound       0 total       0\n",
      "DoPhot iter  3 of 10 at thresh337794.0   Nfound       0 total       0\n",
      "DoPhot iter  4 of 10 at thresh147033.4   Nfound       4 total       4\n",
      "DoPhot iter  5 of 10 at thresh 64000.0   Nfound      15 total      19\n",
      "DoPhot iter  6 of 10 at thresh 27857.6   Nfound      27 total      46\n",
      "DoPhot iter  7 of 10 at thresh 12125.7   Nfound      66 total     112\n",
      "DoPhot iter  8 of 10 at thresh  5278.0   Nfound     151 total     263\n",
      "DoPhot iter  9 of 10 at thresh  2297.4   Nfound     319 total     582\n",
      "DoPhot iter 10 of 10 at thresh  1000.0   Nfound     649 total    1231\n",
      "\n",
      "rm ./paramdefault\n"
     ]
    }
   ],
   "source": [
    "cwd = os.getcwd()\n",
    "os.chdir(objRoot)\n",
    "xcmd(\"cp \" + configFolder + \"/dophot/paramdefault .\")\n",
    "xcmd(\"dophot dpar.000 2>&1 | tee dophot.log\")\n",
    "! cat dophot.log\n",
    "xcmd(\"rm ./paramdefault\")\n",
    "\n",
    "os.chdir(cwd)"
   ]
  },
  {
   "cell_type": "code",
   "execution_count": 144,
   "metadata": {},
   "outputs": [
    {
     "data": {
      "text/plain": [
       "'/media/Data/Home/PanStarrs/Jan/HI/augment/SBF/codes/notebooks'"
      ]
     },
     "execution_count": 144,
     "metadata": {},
     "output_type": "execute_result"
    }
   ],
   "source": [
    "os.getcwd()"
   ]
  },
  {
   "cell_type": "code",
   "execution_count": null,
   "metadata": {},
   "outputs": [],
   "source": []
  },
  {
   "cell_type": "code",
   "execution_count": null,
   "metadata": {},
   "outputs": [],
   "source": []
  },
  {
   "cell_type": "code",
   "execution_count": null,
   "metadata": {},
   "outputs": [],
   "source": []
  },
  {
   "cell_type": "code",
   "execution_count": null,
   "metadata": {},
   "outputs": [],
   "source": []
  },
  {
   "cell_type": "code",
   "execution_count": null,
   "metadata": {},
   "outputs": [],
   "source": []
  },
  {
   "cell_type": "code",
   "execution_count": null,
   "metadata": {},
   "outputs": [],
   "source": []
  },
  {
   "cell_type": "code",
   "execution_count": null,
   "metadata": {},
   "outputs": [],
   "source": [
    " Using Mv = -7.40 for GCs (NOT for JHK)\n"
   ]
  },
  {
   "cell_type": "code",
   "execution_count": null,
   "metadata": {},
   "outputs": [],
   "source": [
    "negative distance --> fitting first \n",
    "\n",
    "Enter new bright end cutoff (22.00):\n",
    "\n",
    "sigma width of the GC LF in units of mag ~1.2 small objects ~1.3 ~1.4 giant ellipticals"
   ]
  },
  {
   "cell_type": "code",
   "execution_count": null,
   "metadata": {},
   "outputs": [],
   "source": [
    "LIKENEW6 -- IR version 2020\n",
    " Enter object list file name (from mkincat): se_lknj.000\n",
    " Enter color (B/V/R/I/z/J/H/K/Ks = 0/1/2/3/4/5/6/7/8) of data: 5\n",
    " Enter scale (\"/p), psf [-]fwhm(p), and [-]dist (Mpc): 0.128, 1.4, 60\n",
    " Enter cutoff [-]S/N ratio and T/F for soft bias correction:-4.5\n"
   ]
  },
  {
   "cell_type": "code",
   "execution_count": null,
   "metadata": {},
   "outputs": [],
   "source": [
    "ptm6 --> modified manually ptm6b"
   ]
  },
  {
   "cell_type": "code",
   "execution_count": null,
   "metadata": {},
   "outputs": [],
   "source": []
  },
  {
   "cell_type": "code",
   "execution_count": null,
   "metadata": {},
   "outputs": [],
   "source": []
  },
  {
   "cell_type": "code",
   "execution_count": null,
   "metadata": {},
   "outputs": [],
   "source": []
  }
 ],
 "metadata": {
  "kernelspec": {
   "display_name": "Python 3",
   "language": "python",
   "name": "python3"
  },
  "language_info": {
   "codemirror_mode": {
    "name": "ipython",
    "version": 3
   },
   "file_extension": ".py",
   "mimetype": "text/x-python",
   "name": "python",
   "nbconvert_exporter": "python",
   "pygments_lexer": "ipython3",
   "version": "3.8.5"
  }
 },
 "nbformat": 4,
 "nbformat_minor": 4
}
