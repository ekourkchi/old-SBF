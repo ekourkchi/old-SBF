{
 "cells": [
  {
   "cell_type": "code",
   "execution_count": 1,
   "metadata": {},
   "outputs": [],
   "source": [
    "import sys, os\n",
    "\n",
    "pysbf_path = \"/media/Data/Home/PanStarrs/Jan/HI/augment/SBF/codes/\"\n",
    "sys.path.insert(0, pysbf_path)\n",
    "from pysbf import *\n",
    "\n",
    "from IPython.display import display, Markdown, clear_output\n",
    "warnings.filterwarnings('ignore')"
   ]
  },
  {
   "cell_type": "code",
   "execution_count": null,
   "metadata": {},
   "outputs": [],
   "source": []
  },
  {
   "cell_type": "code",
   "execution_count": 2,
   "metadata": {},
   "outputs": [],
   "source": [
    "inFolder = './data/'\n",
    "outFolder = './output/'\n",
    "configFolder = pysbf_path + 'pysbf/config/'"
   ]
  },
  {
   "cell_type": "code",
   "execution_count": 3,
   "metadata": {},
   "outputs": [],
   "source": [
    "name = \"u12517\""
   ]
  },
  {
   "cell_type": "markdown",
   "metadata": {},
   "source": [
    "### Checking out the log file"
   ]
  },
  {
   "cell_type": "code",
   "execution_count": 4,
   "metadata": {},
   "outputs": [],
   "source": [
    "outFolder += \"Outputs_\"+name+'/'\n",
    "logFile = outFolder+name+\"_model_log.csv\"\n"
   ]
  },
  {
   "cell_type": "code",
   "execution_count": 5,
   "metadata": {},
   "outputs": [],
   "source": [
    "df_log = open_log_df(logFile)\n",
    "sky_med = float(df_log.loc[\"initial_sky_med\"].value)\n",
    "\n",
    "df = open_log_df(logFile)\n",
    "obj_uuid = df.loc['uuid'].value\n",
    "objRoot = outFolder+name+'_'+obj_uuid+'/'\n",
    "\n",
    "X0 = float(df.loc['X0'].value)\n",
    "Y0 = float(df.loc['Y0'].value)\n",
    "\n",
    "Config = {} \n",
    "\n",
    "Config[\"name\"] = name\n",
    "Config[\"inFolder\"] = inFolder\n",
    "Config[\"objRoot\"] = objRoot\n",
    "Config[\"configFolder\"] = configFolder\n",
    "Config[\"X0\"] = X0\n",
    "Config[\"Y0\"] = Y0\n",
    "Config[\"SKY\"] = df.loc[\"sky\"].value"
   ]
  },
  {
   "cell_type": "code",
   "execution_count": null,
   "metadata": {},
   "outputs": [],
   "source": []
  },
  {
   "cell_type": "code",
   "execution_count": 14,
   "metadata": {},
   "outputs": [
    {
     "name": "stdout",
     "output_type": "stream",
     "text": [
      "\n",
      "dophot dpar.000 2>&1 | tee dophot.log\n",
      "log file:  ./output/Outputs_u12517/u12517_9f43b1726bf2//dophot.log\n"
     ]
    },
    {
     "data": {
      "application/vnd.jupyter.widget-view+json": {
       "model_id": "da0d6a1c074c4177b37302d74d10897e",
       "version_major": 2,
       "version_minor": 0
      },
      "text/plain": [
       "HBox(children=(Textarea(value=' From frame header: NX, NY =   1025  1022  masked_se.000                       …"
      ]
     },
     "metadata": {},
     "output_type": "display_data"
    },
    {
     "name": "stdout",
     "output_type": "stream",
     "text": [
      "dpar file:  ./output/Outputs_u12517/u12517_9f43b1726bf2/dpar.000\n"
     ]
    },
    {
     "data": {
      "application/vnd.jupyter.widget-view+json": {
       "model_id": "0bf5364fea6d4db698e3c68525945d80",
       "version_major": 2,
       "version_minor": 0
      },
      "text/plain": [
       "HBox(children=(Textarea(value=\"\\n= u12517 GO-16262\\nSKY = 3264     Approximate mean sky value in data numbers.…"
      ]
     },
     "metadata": {},
     "output_type": "display_data"
    },
    {
     "name": "stdout",
     "output_type": "stream",
     "text": [
      "input image:  ./output/Outputs_u12517/u12517_9f43b1726bf2/masked_se.000\n"
     ]
    },
    {
     "data": {
      "application/vnd.jupyter.widget-view+json": {
       "model_id": "610d3f3c6d734aa185458da06ae20f77",
       "version_major": 2,
       "version_minor": 0
      },
      "text/plain": [
       "VBox(children=(Button(description='[DS9] input image', style=ButtonStyle()),))"
      ]
     },
     "metadata": {},
     "output_type": "display_data"
    },
    {
     "name": "stdout",
     "output_type": "stream",
     "text": [
      "residual image:  ./output/Outputs_u12517/u12517_9f43b1726bf2//resid.000\n"
     ]
    },
    {
     "data": {
      "application/vnd.jupyter.widget-view+json": {
       "model_id": "f81c088efec84ad680d1b056834ad9ec",
       "version_major": 2,
       "version_minor": 0
      },
      "text/plain": [
       "VBox(children=(Button(description='[DS9] residual image', style=ButtonStyle()),))"
      ]
     },
     "metadata": {},
     "output_type": "display_data"
    },
    {
     "name": "stdout",
     "output_type": "stream",
     "text": [
      "dpo file:  ./output/Outputs_u12517/u12517_9f43b1726bf2/dpo.000\n"
     ]
    },
    {
     "data": {
      "application/vnd.jupyter.widget-view+json": {
       "model_id": "35dcb9346a3046718b5544da1ea7e406",
       "version_major": 2,
       "version_minor": 0
      },
      "text/plain": [
       "HBox(children=(Textarea(value='     1  7   568.92   552.25  -12.443  0.158   2007.26     1.400     1.260  -90.…"
      ]
     },
     "metadata": {},
     "output_type": "display_data"
    },
    {
     "name": "stdout",
     "output_type": "stream",
     "text": [
      "output image:  ./output/Outputs_u12517/u12517_9f43b1726bf2/dpr.000\n"
     ]
    },
    {
     "data": {
      "application/vnd.jupyter.widget-view+json": {
       "model_id": "54d2178ae0704e86be6a902e403a0d9c",
       "version_major": 2,
       "version_minor": 0
      },
      "text/plain": [
       "VBox(children=(Button(description='[DS9] dpr image', style=ButtonStyle()),))"
      ]
     },
     "metadata": {},
     "output_type": "display_data"
    }
   ],
   "source": [
    "# used Dmask instead of mask1\n",
    "log, resid_file, dpar_file, image_in, image_out, dpo_file = DoPhot(model=0, renuc=2, **Config) \n",
    "\n",
    "print(\"log file: \", log)\n",
    "_ = Logtext(log, \"log\")\n",
    "\n",
    "print(\"dpar file: \", dpar_file)\n",
    "_ = Logtext(dpar_file, \"Dpar File\")\n",
    "\n",
    "if os.path.exists(image_in):\n",
    "    print(\"input image: \", image_in)\n",
    "    _ = CMD_button(\"ds9 \"+image_in+\" &\", \"[DS9] input image\")\n",
    "else:\n",
    "    print(\"input image not found: \", image_in)\n",
    "\n",
    "if os.path.exists(resid_file):\n",
    "    print(\"residual image: \", resid_file)\n",
    "    _ = CMD_button(\"ds9 \"+resid_file+\" &\", \"[DS9] residual image\")\n",
    "else:\n",
    "    print(\"residual image not found: \", resid_file)\n",
    "\n",
    "print(\"dpo file: \", dpo_file)\n",
    "if dpo_file is not None:\n",
    "    _ = Logtext(dpo_file, \"DPO File\")\n",
    "    \n",
    "print(\"output image: \", image_out)\n",
    "if image_out is not None:\n",
    "    _ = CMD_button(\"ds9 \"+image_out+\" &\", \"[DS9] dpr image\")"
   ]
  },
  {
   "cell_type": "code",
   "execution_count": null,
   "metadata": {},
   "outputs": [],
   "source": []
  },
  {
   "cell_type": "code",
   "execution_count": null,
   "metadata": {},
   "outputs": [],
   "source": []
  },
  {
   "cell_type": "code",
   "execution_count": 15,
   "metadata": {},
   "outputs": [
    {
     "name": "stdout",
     "output_type": "stream",
     "text": [
      "Radius of the avoding zone [pix]\n"
     ]
    },
    {
     "data": {
      "application/vnd.jupyter.widget-view+json": {
       "model_id": "1a0b9516f6394f8f8f9b314338fa4dcc",
       "version_major": 2,
       "version_minor": 0
      },
      "text/plain": [
       "FloatSlider(value=20.0, description='R_aperture', min=1.0, step=1.0)"
      ]
     },
     "metadata": {},
     "output_type": "display_data"
    }
   ],
   "source": [
    "avoiding_r = widgets.FloatSlider(\n",
    "                    value=20,\n",
    "                    min=1,\n",
    "                    max=100,\n",
    "                    step=1,\n",
    "                    description=\"R_aperture\",\n",
    "                )\n",
    "\n",
    "print(\"Radius of the avoding zone [pix]\")\n",
    "display(avoiding_r)"
   ]
  },
  {
   "cell_type": "code",
   "execution_count": 16,
   "metadata": {},
   "outputs": [
    {
     "name": "stdout",
     "output_type": "stream",
     "text": [
      "wrote:  ./output/Outputs_u12517/u12517_9f43b1726bf2/u12517_do_lkn.000\n",
      "GCs:  103\n",
      "galaxies:  0\n",
      "Including dophot object types 4, 5, and 7\n"
     ]
    },
    {
     "data": {
      "application/vnd.jupyter.widget-view+json": {
       "model_id": "872c5827488a42f09883e87471e8e158",
       "version_major": 2,
       "version_minor": 0
      },
      "text/plain": [
       "HBox(children=(Textarea(value='  1.0   568.92  552.25    10.44  1   0.62988  0.51020   0.00000    1.4  1.4000 …"
      ]
     },
     "metadata": {},
     "output_type": "display_data"
    }
   ],
   "source": [
    "DF, lkn_file_name = make_do_lkn(dpo_file, model=0, r_aperture=avoiding_r.value, \n",
    "                                    exclude457=False, \n",
    "                                    ZP=35.081, \n",
    "                                    **Config)\n",
    "_ = Logtext(lkn_file_name, \"lkn file\")"
   ]
  },
  {
   "cell_type": "markdown",
   "metadata": {},
   "source": [
    "- **yellow**: ignore\n",
    "- **cyan**: point sources\n",
    "- **green**: galaxies, extended objects\n",
    "- **red**: ignore"
   ]
  },
  {
   "cell_type": "code",
   "execution_count": 17,
   "metadata": {},
   "outputs": [
    {
     "data": {
      "application/vnd.jupyter.widget-view+json": {
       "model_id": "c46aa26dc8f941dea1226f9d11d4c96a",
       "version_major": 2,
       "version_minor": 0
      },
      "text/plain": [
       "VBox(children=(Button(description='Regions On/Off', style=ButtonStyle()),))"
      ]
     },
     "metadata": {},
     "output_type": "display_data"
    }
   ],
   "source": [
    "reg_button = ds9_region_display(reg_file=\"./ds9.reg\")"
   ]
  },
  {
   "cell_type": "code",
   "execution_count": null,
   "metadata": {},
   "outputs": [],
   "source": []
  },
  {
   "cell_type": "code",
   "execution_count": null,
   "metadata": {},
   "outputs": [],
   "source": []
  },
  {
   "cell_type": "code",
   "execution_count": 10,
   "metadata": {},
   "outputs": [],
   "source": [
    "#  Using Mv = -7.40 for GCs (NOT for JHK)\n"
   ]
  },
  {
   "cell_type": "code",
   "execution_count": 11,
   "metadata": {},
   "outputs": [],
   "source": [
    "# negative distance --> fitting first \n",
    "\n",
    "# Enter new bright end cutoff (22.00):\n",
    "\n",
    "# sigma width of the GC LF in units of mag ~1.2 small objects ~1.3 ~1.4 giant ellipticals"
   ]
  },
  {
   "cell_type": "code",
   "execution_count": 12,
   "metadata": {},
   "outputs": [],
   "source": [
    "# LIKENEW6 -- IR version 2020\n",
    "#  Enter object list file name (from mkincat): se_lknj.000\n",
    "#  Enter color (B/V/R/I/z/J/H/K/Ks = 0/1/2/3/4/5/6/7/8) of data: 5\n",
    "#  Enter scale (\"/p), psf [-]fwhm(p), and [-]dist (Mpc): 0.128, 1.4, 60\n",
    "#  Enter cutoff [-]S/N ratio and T/F for soft bias correction:-4.5\n"
   ]
  },
  {
   "cell_type": "code",
   "execution_count": 13,
   "metadata": {},
   "outputs": [],
   "source": [
    "# ptm6 --> modified manually ptm6b"
   ]
  },
  {
   "cell_type": "code",
   "execution_count": null,
   "metadata": {},
   "outputs": [],
   "source": []
  },
  {
   "cell_type": "code",
   "execution_count": null,
   "metadata": {},
   "outputs": [],
   "source": []
  },
  {
   "cell_type": "code",
   "execution_count": null,
   "metadata": {},
   "outputs": [],
   "source": []
  }
 ],
 "metadata": {
  "kernelspec": {
   "display_name": "Python 3",
   "language": "python",
   "name": "python3"
  },
  "language_info": {
   "codemirror_mode": {
    "name": "ipython",
    "version": 3
   },
   "file_extension": ".py",
   "mimetype": "text/x-python",
   "name": "python",
   "nbconvert_exporter": "python",
   "pygments_lexer": "ipython3",
   "version": "3.8.5"
  }
 },
 "nbformat": 4,
 "nbformat_minor": 4
}
