{
 "cells": [
  {
   "cell_type": "code",
   "execution_count": 1,
   "metadata": {},
   "outputs": [],
   "source": [
    "# import os \n",
    "\n",
    "# os.environ['LD_LIBRARY_PATH'] = '/media/Data/Home/PanStarrs/Jan/HI/augment/SBF/codes/pysbf:' + \\\n",
    "#                                 os.environ[\"LD_LIBRARY_PATH\"]\n",
    "\n",
    "# os.environ['LD_LIBRARY_PATH'] "
   ]
  },
  {
   "cell_type": "code",
   "execution_count": 2,
   "metadata": {},
   "outputs": [],
   "source": [
    "import sys\n",
    "\n",
    "# the path to the pysbf folder\n",
    "sys.path.insert(0, \"../\")\n",
    "\n",
    "import time\n",
    "\n",
    "from pysbf import *\n",
    "\n",
    "from IPython.display import display, Markdown, clear_output\n",
    "warnings.filterwarnings('ignore')"
   ]
  },
  {
   "cell_type": "code",
   "execution_count": 3,
   "metadata": {},
   "outputs": [],
   "source": [
    "root = \"/media/Data/Home/PanStarrs/Jan/HI/augment/SBF/codes/u12517/\"\n",
    "likenew = LikeNew(root)"
   ]
  },
  {
   "cell_type": "code",
   "execution_count": 4,
   "metadata": {},
   "outputs": [
    {
     "name": "stdout",
     "output_type": "stream",
     "text": [
      "Beta  =\t      5.8808e-01 \t #gxy / total sources\n",
      "\n",
      "Cnorm =\t      2.5944e-01 \t GC normalization\n",
      "Cmax  =\t      25.805 \t\t GC peak magnitude\n",
      "Delta =\t      1.4 \t\t GC distribution width\n",
      "Alpha =\t      1.240 \t\t GC log slope vs log r\n",
      "Total # GC =  333.2\n",
      "\n",
      "Gamma =\t      0.25000 \t\t Gxy log slope vs m\n",
      "Gnorm =\t      3.00949 \t\t Gxy count / 1/\" @ 34.50\n",
      "Tnorm =\t      0.24315 \t\t Tyson Gxy count @ 30.13\n",
      "Total # gxy =  475.8\n"
     ]
    },
    {
     "data": {
      "text/plain": [
       "{'beta': 0.5880764126777649,\n",
       " 'cnorm': 0.2594362497329712,\n",
       " 'cmax': 25.804990768432617,\n",
       " 'alpha': 1.2397639751434326,\n",
       " 'tot_gc': 333.2461853027344,\n",
       " 'gamma': 0.25,\n",
       " 'gnorm': 3.0094876289367676,\n",
       " 'tnorm': 0.24314643442630768,\n",
       " 'tot_gal': 475.7538146972656,\n",
       " 'galpersec': 34.5,\n",
       " 'tysonempersec': 30.129501342773438,\n",
       " 'delta': 1.4,\n",
       " 'status': 10}"
      ]
     },
     "execution_count": 4,
     "metadata": {},
     "output_type": "execute_result"
    }
   ],
   "source": [
    "likenew.run(delta=1.4, distance=70)"
   ]
  },
  {
   "cell_type": "code",
   "execution_count": 5,
   "metadata": {},
   "outputs": [],
   "source": [
    "out_file = root + \"u12517sej.lkn6\""
   ]
  },
  {
   "cell_type": "code",
   "execution_count": 6,
   "metadata": {},
   "outputs": [],
   "source": [
    "# likenew.plot()"
   ]
  },
  {
   "cell_type": "code",
   "execution_count": null,
   "metadata": {},
   "outputs": [],
   "source": []
  },
  {
   "cell_type": "code",
   "execution_count": null,
   "metadata": {},
   "outputs": [],
   "source": []
  },
  {
   "cell_type": "code",
   "execution_count": null,
   "metadata": {},
   "outputs": [],
   "source": []
  },
  {
   "cell_type": "code",
   "execution_count": null,
   "metadata": {},
   "outputs": [],
   "source": []
  },
  {
   "cell_type": "code",
   "execution_count": null,
   "metadata": {},
   "outputs": [],
   "source": []
  }
 ],
 "metadata": {
  "kernelspec": {
   "display_name": "Python 3",
   "language": "python",
   "name": "python3"
  },
  "language_info": {
   "codemirror_mode": {
    "name": "ipython",
    "version": 3
   },
   "file_extension": ".py",
   "mimetype": "text/x-python",
   "name": "python",
   "nbconvert_exporter": "python",
   "pygments_lexer": "ipython3",
   "version": "3.8.5"
  }
 },
 "nbformat": 4,
 "nbformat_minor": 4
}
